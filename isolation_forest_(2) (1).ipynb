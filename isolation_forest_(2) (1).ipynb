{
  "nbformat": 4,
  "nbformat_minor": 0,
  "metadata": {
    "colab": {
      "name": "isolation forest (2).ipynb",
      "provenance": []
    },
    "kernelspec": {
      "name": "python3",
      "display_name": "Python 3"
    },
    "language_info": {
      "name": "python"
    }
  },
  "cells": [
    {
      "cell_type": "code",
      "metadata": {
        "id": "22hnDrdAQ1At"
      },
      "source": [
        "import pandas as pd\n",
        "import numpy as np"
      ],
      "execution_count": 1,
      "outputs": []
    },
    {
      "cell_type": "code",
      "metadata": {
        "colab": {
          "base_uri": "https://localhost:8080/"
        },
        "id": "2MTpZVIkQ_dn",
        "outputId": "dce2165a-5e4a-4d3b-ebb4-9a579b9150c3"
      },
      "source": [
        "from google.colab import drive\n",
        "drive.mount('/content/drive')"
      ],
      "execution_count": 2,
      "outputs": [
        {
          "output_type": "stream",
          "text": [
            "Mounted at /content/drive\n"
          ],
          "name": "stdout"
        }
      ]
    },
    {
      "cell_type": "code",
      "metadata": {
        "id": "rigVrjxnRUo-"
      },
      "source": [
        "header_names = ['timestamp', 'value', 'is_Anomaly']"
      ],
      "execution_count": 3,
      "outputs": []
    },
    {
      "cell_type": "code",
      "metadata": {
        "id": "Th9XQEkFQ_fn"
      },
      "source": [
        "dataset=pd.read_csv('/content/drive/MyDrive/Colab Notebooks/disease_person_edit.csv',  names=header_names)"
      ],
      "execution_count": 5,
      "outputs": []
    },
    {
      "cell_type": "code",
      "metadata": {
        "colab": {
          "base_uri": "https://localhost:8080/",
          "height": 419
        },
        "id": "6R5J1cF0Q_mg",
        "outputId": "cf31cda1-8283-4aaf-97b7-557ef89c9f28"
      },
      "source": [
        "dataset"
      ],
      "execution_count": 6,
      "outputs": [
        {
          "output_type": "execute_result",
          "data": {
            "text/html": [
              "<div>\n",
              "<style scoped>\n",
              "    .dataframe tbody tr th:only-of-type {\n",
              "        vertical-align: middle;\n",
              "    }\n",
              "\n",
              "    .dataframe tbody tr th {\n",
              "        vertical-align: top;\n",
              "    }\n",
              "\n",
              "    .dataframe thead th {\n",
              "        text-align: right;\n",
              "    }\n",
              "</style>\n",
              "<table border=\"1\" class=\"dataframe\">\n",
              "  <thead>\n",
              "    <tr style=\"text-align: right;\">\n",
              "      <th></th>\n",
              "      <th>timestamp</th>\n",
              "      <th>value</th>\n",
              "      <th>is_Anomaly</th>\n",
              "    </tr>\n",
              "  </thead>\n",
              "  <tbody>\n",
              "    <tr>\n",
              "      <th>0</th>\n",
              "      <td>05:57.0</td>\n",
              "      <td>433</td>\n",
              "      <td>0.0</td>\n",
              "    </tr>\n",
              "    <tr>\n",
              "      <th>1</th>\n",
              "      <td>05:57.0</td>\n",
              "      <td>430</td>\n",
              "      <td>0.0</td>\n",
              "    </tr>\n",
              "    <tr>\n",
              "      <th>2</th>\n",
              "      <td>05:57.0</td>\n",
              "      <td>427</td>\n",
              "      <td>0.0</td>\n",
              "    </tr>\n",
              "    <tr>\n",
              "      <th>3</th>\n",
              "      <td>05:57.0</td>\n",
              "      <td>426</td>\n",
              "      <td>0.0</td>\n",
              "    </tr>\n",
              "    <tr>\n",
              "      <th>4</th>\n",
              "      <td>05:57.0</td>\n",
              "      <td>427</td>\n",
              "      <td>0.0</td>\n",
              "    </tr>\n",
              "    <tr>\n",
              "      <th>...</th>\n",
              "      <td>...</td>\n",
              "      <td>...</td>\n",
              "      <td>...</td>\n",
              "    </tr>\n",
              "    <tr>\n",
              "      <th>9710</th>\n",
              "      <td>06:47.4</td>\n",
              "      <td>574</td>\n",
              "      <td>0.0</td>\n",
              "    </tr>\n",
              "    <tr>\n",
              "      <th>9711</th>\n",
              "      <td>06:47.4</td>\n",
              "      <td>560</td>\n",
              "      <td>0.0</td>\n",
              "    </tr>\n",
              "    <tr>\n",
              "      <th>9712</th>\n",
              "      <td>06:47.5</td>\n",
              "      <td>547</td>\n",
              "      <td>0.0</td>\n",
              "    </tr>\n",
              "    <tr>\n",
              "      <th>9713</th>\n",
              "      <td>06:47.5</td>\n",
              "      <td>529</td>\n",
              "      <td>0.0</td>\n",
              "    </tr>\n",
              "    <tr>\n",
              "      <th>9714</th>\n",
              "      <td>06:47.5</td>\n",
              "      <td>509</td>\n",
              "      <td>0.0</td>\n",
              "    </tr>\n",
              "  </tbody>\n",
              "</table>\n",
              "<p>9715 rows × 3 columns</p>\n",
              "</div>"
            ],
            "text/plain": [
              "     timestamp  value  is_Anomaly\n",
              "0      05:57.0    433         0.0\n",
              "1      05:57.0    430         0.0\n",
              "2      05:57.0    427         0.0\n",
              "3      05:57.0    426         0.0\n",
              "4      05:57.0    427         0.0\n",
              "...        ...    ...         ...\n",
              "9710   06:47.4    574         0.0\n",
              "9711   06:47.4    560         0.0\n",
              "9712   06:47.5    547         0.0\n",
              "9713   06:47.5    529         0.0\n",
              "9714   06:47.5    509         0.0\n",
              "\n",
              "[9715 rows x 3 columns]"
            ]
          },
          "metadata": {
            "tags": []
          },
          "execution_count": 6
        }
      ]
    },
    {
      "cell_type": "code",
      "metadata": {
        "id": "WFa0e-1UpnIh"
      },
      "source": [
        "dataset['is_Anomaly'] = dataset['is_Anomaly'].round()"
      ],
      "execution_count": 7,
      "outputs": []
    },
    {
      "cell_type": "code",
      "metadata": {
        "colab": {
          "base_uri": "https://localhost:8080/"
        },
        "id": "EW8kqQzeQ_ox",
        "outputId": "45ace123-b638-4c9d-c1aa-37383e7f1812"
      },
      "source": [
        "\n",
        "dataset['timestamp'] = pd.to_datetime(dataset['timestamp'])\n",
        "dataset['timestamp'].min(),dataset['timestamp'].max()"
      ],
      "execution_count": 8,
      "outputs": [
        {
          "output_type": "execute_result",
          "data": {
            "text/plain": [
              "(Timestamp('2021-06-07 05:57:00'), Timestamp('2021-06-07 06:47:30'))"
            ]
          },
          "metadata": {
            "tags": []
          },
          "execution_count": 8
        }
      ]
    },
    {
      "cell_type": "code",
      "metadata": {
        "colab": {
          "base_uri": "https://localhost:8080/",
          "height": 419
        },
        "id": "BZBtdC9RQ_q2",
        "outputId": "9568ce6f-980a-4045-ef9d-50eb1144d21f"
      },
      "source": [
        "dataset"
      ],
      "execution_count": 9,
      "outputs": [
        {
          "output_type": "execute_result",
          "data": {
            "text/html": [
              "<div>\n",
              "<style scoped>\n",
              "    .dataframe tbody tr th:only-of-type {\n",
              "        vertical-align: middle;\n",
              "    }\n",
              "\n",
              "    .dataframe tbody tr th {\n",
              "        vertical-align: top;\n",
              "    }\n",
              "\n",
              "    .dataframe thead th {\n",
              "        text-align: right;\n",
              "    }\n",
              "</style>\n",
              "<table border=\"1\" class=\"dataframe\">\n",
              "  <thead>\n",
              "    <tr style=\"text-align: right;\">\n",
              "      <th></th>\n",
              "      <th>timestamp</th>\n",
              "      <th>value</th>\n",
              "      <th>is_Anomaly</th>\n",
              "    </tr>\n",
              "  </thead>\n",
              "  <tbody>\n",
              "    <tr>\n",
              "      <th>0</th>\n",
              "      <td>2021-06-07 05:57:00</td>\n",
              "      <td>433</td>\n",
              "      <td>0.0</td>\n",
              "    </tr>\n",
              "    <tr>\n",
              "      <th>1</th>\n",
              "      <td>2021-06-07 05:57:00</td>\n",
              "      <td>430</td>\n",
              "      <td>0.0</td>\n",
              "    </tr>\n",
              "    <tr>\n",
              "      <th>2</th>\n",
              "      <td>2021-06-07 05:57:00</td>\n",
              "      <td>427</td>\n",
              "      <td>0.0</td>\n",
              "    </tr>\n",
              "    <tr>\n",
              "      <th>3</th>\n",
              "      <td>2021-06-07 05:57:00</td>\n",
              "      <td>426</td>\n",
              "      <td>0.0</td>\n",
              "    </tr>\n",
              "    <tr>\n",
              "      <th>4</th>\n",
              "      <td>2021-06-07 05:57:00</td>\n",
              "      <td>427</td>\n",
              "      <td>0.0</td>\n",
              "    </tr>\n",
              "    <tr>\n",
              "      <th>...</th>\n",
              "      <td>...</td>\n",
              "      <td>...</td>\n",
              "      <td>...</td>\n",
              "    </tr>\n",
              "    <tr>\n",
              "      <th>9710</th>\n",
              "      <td>2021-06-07 06:47:24</td>\n",
              "      <td>574</td>\n",
              "      <td>0.0</td>\n",
              "    </tr>\n",
              "    <tr>\n",
              "      <th>9711</th>\n",
              "      <td>2021-06-07 06:47:24</td>\n",
              "      <td>560</td>\n",
              "      <td>0.0</td>\n",
              "    </tr>\n",
              "    <tr>\n",
              "      <th>9712</th>\n",
              "      <td>2021-06-07 06:47:30</td>\n",
              "      <td>547</td>\n",
              "      <td>0.0</td>\n",
              "    </tr>\n",
              "    <tr>\n",
              "      <th>9713</th>\n",
              "      <td>2021-06-07 06:47:30</td>\n",
              "      <td>529</td>\n",
              "      <td>0.0</td>\n",
              "    </tr>\n",
              "    <tr>\n",
              "      <th>9714</th>\n",
              "      <td>2021-06-07 06:47:30</td>\n",
              "      <td>509</td>\n",
              "      <td>0.0</td>\n",
              "    </tr>\n",
              "  </tbody>\n",
              "</table>\n",
              "<p>9715 rows × 3 columns</p>\n",
              "</div>"
            ],
            "text/plain": [
              "               timestamp  value  is_Anomaly\n",
              "0    2021-06-07 05:57:00    433         0.0\n",
              "1    2021-06-07 05:57:00    430         0.0\n",
              "2    2021-06-07 05:57:00    427         0.0\n",
              "3    2021-06-07 05:57:00    426         0.0\n",
              "4    2021-06-07 05:57:00    427         0.0\n",
              "...                  ...    ...         ...\n",
              "9710 2021-06-07 06:47:24    574         0.0\n",
              "9711 2021-06-07 06:47:24    560         0.0\n",
              "9712 2021-06-07 06:47:30    547         0.0\n",
              "9713 2021-06-07 06:47:30    529         0.0\n",
              "9714 2021-06-07 06:47:30    509         0.0\n",
              "\n",
              "[9715 rows x 3 columns]"
            ]
          },
          "metadata": {
            "tags": []
          },
          "execution_count": 9
        }
      ]
    },
    {
      "cell_type": "code",
      "metadata": {
        "id": "9_pf5_OwTYn9"
      },
      "source": [
        "from sklearn.ensemble import IsolationForest\n",
        "#to_model_column='value'\n",
        "clf=IsolationForest(n_estimators=10, max_samples='auto', contamination=float(.04), \\\n",
        "                        max_features=1.0, bootstrap=False, n_jobs=-1, random_state=42, verbose=0)"
      ],
      "execution_count": 10,
      "outputs": []
    },
    {
      "cell_type": "code",
      "metadata": {
        "colab": {
          "base_uri": "https://localhost:8080/"
        },
        "id": "oH2j8XwkQ_s7",
        "outputId": "cfb92f39-9c40-435b-ee7b-e337753c8cf0"
      },
      "source": [
        "clf.fit(dataset[['value']])"
      ],
      "execution_count": 11,
      "outputs": [
        {
          "output_type": "execute_result",
          "data": {
            "text/plain": [
              "IsolationForest(behaviour='deprecated', bootstrap=False, contamination=0.04,\n",
              "                max_features=1.0, max_samples='auto', n_estimators=10,\n",
              "                n_jobs=-1, random_state=42, verbose=0, warm_start=False)"
            ]
          },
          "metadata": {
            "tags": []
          },
          "execution_count": 11
        }
      ]
    },
    {
      "cell_type": "code",
      "metadata": {
        "id": "u1AHs06GQ_wY"
      },
      "source": [
        "dataset['scores']=clf.decision_function(dataset[['value']])\n",
        "dataset['anomaly']=clf.predict(dataset[['value']])\n"
      ],
      "execution_count": 12,
      "outputs": []
    },
    {
      "cell_type": "code",
      "metadata": {
        "id": "uC0d87F-Q_z6"
      },
      "source": [
        "dataset.loc[dataset['anomaly'] == 1,'anomaly'] = 0\n",
        "dataset.loc[dataset['anomaly'] == -1,'anomaly'] = 1"
      ],
      "execution_count": 13,
      "outputs": []
    },
    {
      "cell_type": "code",
      "metadata": {
        "colab": {
          "base_uri": "https://localhost:8080/",
          "height": 419
        },
        "id": "fSJe0kIZQ_29",
        "outputId": "164e0cc4-e58e-447a-d03d-60b6a42de04b"
      },
      "source": [
        "dataset"
      ],
      "execution_count": 14,
      "outputs": [
        {
          "output_type": "execute_result",
          "data": {
            "text/html": [
              "<div>\n",
              "<style scoped>\n",
              "    .dataframe tbody tr th:only-of-type {\n",
              "        vertical-align: middle;\n",
              "    }\n",
              "\n",
              "    .dataframe tbody tr th {\n",
              "        vertical-align: top;\n",
              "    }\n",
              "\n",
              "    .dataframe thead th {\n",
              "        text-align: right;\n",
              "    }\n",
              "</style>\n",
              "<table border=\"1\" class=\"dataframe\">\n",
              "  <thead>\n",
              "    <tr style=\"text-align: right;\">\n",
              "      <th></th>\n",
              "      <th>timestamp</th>\n",
              "      <th>value</th>\n",
              "      <th>is_Anomaly</th>\n",
              "      <th>scores</th>\n",
              "      <th>anomaly</th>\n",
              "    </tr>\n",
              "  </thead>\n",
              "  <tbody>\n",
              "    <tr>\n",
              "      <th>0</th>\n",
              "      <td>2021-06-07 05:57:00</td>\n",
              "      <td>433</td>\n",
              "      <td>0.0</td>\n",
              "      <td>0.238437</td>\n",
              "      <td>0</td>\n",
              "    </tr>\n",
              "    <tr>\n",
              "      <th>1</th>\n",
              "      <td>2021-06-07 05:57:00</td>\n",
              "      <td>430</td>\n",
              "      <td>0.0</td>\n",
              "      <td>0.223367</td>\n",
              "      <td>0</td>\n",
              "    </tr>\n",
              "    <tr>\n",
              "      <th>2</th>\n",
              "      <td>2021-06-07 05:57:00</td>\n",
              "      <td>427</td>\n",
              "      <td>0.0</td>\n",
              "      <td>0.241614</td>\n",
              "      <td>0</td>\n",
              "    </tr>\n",
              "    <tr>\n",
              "      <th>3</th>\n",
              "      <td>2021-06-07 05:57:00</td>\n",
              "      <td>426</td>\n",
              "      <td>0.0</td>\n",
              "      <td>0.241614</td>\n",
              "      <td>0</td>\n",
              "    </tr>\n",
              "    <tr>\n",
              "      <th>4</th>\n",
              "      <td>2021-06-07 05:57:00</td>\n",
              "      <td>427</td>\n",
              "      <td>0.0</td>\n",
              "      <td>0.241614</td>\n",
              "      <td>0</td>\n",
              "    </tr>\n",
              "    <tr>\n",
              "      <th>...</th>\n",
              "      <td>...</td>\n",
              "      <td>...</td>\n",
              "      <td>...</td>\n",
              "      <td>...</td>\n",
              "      <td>...</td>\n",
              "    </tr>\n",
              "    <tr>\n",
              "      <th>9710</th>\n",
              "      <td>2021-06-07 06:47:24</td>\n",
              "      <td>574</td>\n",
              "      <td>0.0</td>\n",
              "      <td>0.211586</td>\n",
              "      <td>0</td>\n",
              "    </tr>\n",
              "    <tr>\n",
              "      <th>9711</th>\n",
              "      <td>2021-06-07 06:47:24</td>\n",
              "      <td>560</td>\n",
              "      <td>0.0</td>\n",
              "      <td>0.209455</td>\n",
              "      <td>0</td>\n",
              "    </tr>\n",
              "    <tr>\n",
              "      <th>9712</th>\n",
              "      <td>2021-06-07 06:47:30</td>\n",
              "      <td>547</td>\n",
              "      <td>0.0</td>\n",
              "      <td>0.228495</td>\n",
              "      <td>0</td>\n",
              "    </tr>\n",
              "    <tr>\n",
              "      <th>9713</th>\n",
              "      <td>2021-06-07 06:47:30</td>\n",
              "      <td>529</td>\n",
              "      <td>0.0</td>\n",
              "      <td>0.241583</td>\n",
              "      <td>0</td>\n",
              "    </tr>\n",
              "    <tr>\n",
              "      <th>9714</th>\n",
              "      <td>2021-06-07 06:47:30</td>\n",
              "      <td>509</td>\n",
              "      <td>0.0</td>\n",
              "      <td>0.232976</td>\n",
              "      <td>0</td>\n",
              "    </tr>\n",
              "  </tbody>\n",
              "</table>\n",
              "<p>9715 rows × 5 columns</p>\n",
              "</div>"
            ],
            "text/plain": [
              "               timestamp  value  is_Anomaly    scores  anomaly\n",
              "0    2021-06-07 05:57:00    433         0.0  0.238437        0\n",
              "1    2021-06-07 05:57:00    430         0.0  0.223367        0\n",
              "2    2021-06-07 05:57:00    427         0.0  0.241614        0\n",
              "3    2021-06-07 05:57:00    426         0.0  0.241614        0\n",
              "4    2021-06-07 05:57:00    427         0.0  0.241614        0\n",
              "...                  ...    ...         ...       ...      ...\n",
              "9710 2021-06-07 06:47:24    574         0.0  0.211586        0\n",
              "9711 2021-06-07 06:47:24    560         0.0  0.209455        0\n",
              "9712 2021-06-07 06:47:30    547         0.0  0.228495        0\n",
              "9713 2021-06-07 06:47:30    529         0.0  0.241583        0\n",
              "9714 2021-06-07 06:47:30    509         0.0  0.232976        0\n",
              "\n",
              "[9715 rows x 5 columns]"
            ]
          },
          "metadata": {
            "tags": []
          },
          "execution_count": 14
        }
      ]
    },
    {
      "cell_type": "code",
      "metadata": {
        "colab": {
          "base_uri": "https://localhost:8080/"
        },
        "id": "D9UDYBcZRAG5",
        "outputId": "589888ae-1d3c-4944-ff48-2247cf9a3cd0"
      },
      "source": [
        "from sklearn.metrics import accuracy_score\n",
        "\n",
        "accuracy_score(dataset['is_Anomaly'], dataset['anomaly'])"
      ],
      "execution_count": 15,
      "outputs": [
        {
          "output_type": "execute_result",
          "data": {
            "text/plain": [
              "0.9565620174987133"
            ]
          },
          "metadata": {
            "tags": []
          },
          "execution_count": 15
        }
      ]
    },
    {
      "cell_type": "code",
      "metadata": {
        "colab": {
          "base_uri": "https://localhost:8080/"
        },
        "id": "fCYtP2k9RAKI",
        "outputId": "3d2b7f9b-cc3c-4958-b5ac-12398122546a"
      },
      "source": [
        "from sklearn.metrics import confusion_matrix\n",
        "confusion_matrix(dataset['is_Anomaly'], dataset['anomaly'])"
      ],
      "execution_count": 16,
      "outputs": [
        {
          "output_type": "execute_result",
          "data": {
            "text/plain": [
              "array([[9291,  373],\n",
              "       [  49,    2]])"
            ]
          },
          "metadata": {
            "tags": []
          },
          "execution_count": 16
        }
      ]
    },
    {
      "cell_type": "code",
      "metadata": {
        "colab": {
          "base_uri": "https://localhost:8080/"
        },
        "id": "viYSyQRxIDiP",
        "outputId": "bfa55175-f7b1-4617-ae0c-194be69a3c63"
      },
      "source": [
        "from sklearn.metrics import classification_report\n",
        "print(classification_report(dataset['is_Anomaly'], dataset['anomaly']))"
      ],
      "execution_count": 17,
      "outputs": [
        {
          "output_type": "stream",
          "text": [
            "              precision    recall  f1-score   support\n",
            "\n",
            "         0.0       0.99      0.96      0.98      9664\n",
            "         1.0       0.01      0.04      0.01        51\n",
            "\n",
            "    accuracy                           0.96      9715\n",
            "   macro avg       0.50      0.50      0.49      9715\n",
            "weighted avg       0.99      0.96      0.97      9715\n",
            "\n"
          ],
          "name": "stdout"
        }
      ]
    },
    {
      "cell_type": "code",
      "metadata": {
        "colab": {
          "base_uri": "https://localhost:8080/"
        },
        "id": "o6pMOLkMRLJg",
        "outputId": "6893e29a-f781-438f-d7d2-7e1ad88d5e80"
      },
      "source": [
        "anomaly=dataset.loc[dataset['anomaly']==1]\n",
        "anomaly_index=list(anomaly.index)\n",
        "print(anomaly)"
      ],
      "execution_count": 19,
      "outputs": [
        {
          "output_type": "stream",
          "text": [
            "               timestamp  value  is_Anomaly    scores  anomaly\n",
            "94   2021-06-07 05:57:30    949         1.0 -0.047279        1\n",
            "95   2021-06-07 05:57:30    931         1.0 -0.018529        1\n",
            "255  2021-06-07 05:58:24    931         0.0 -0.018529        1\n",
            "256  2021-06-07 05:58:24    934         0.0 -0.018529        1\n",
            "851  2021-06-07 06:01:30    912         0.0 -0.013849        1\n",
            "...                  ...    ...         ...       ...      ...\n",
            "8513 2021-06-07 06:41:12    752         0.0 -0.003082        1\n",
            "9059 2021-06-07 06:44:06    929         0.0 -0.018529        1\n",
            "9060 2021-06-07 06:44:06    949         0.0 -0.047279        1\n",
            "9227 2021-06-07 06:44:54    751         0.0 -0.003082        1\n",
            "9663 2021-06-07 06:47:12    908         0.0 -0.013849        1\n",
            "\n",
            "[375 rows x 5 columns]\n"
          ],
          "name": "stdout"
        }
      ]
    }
  ]
}