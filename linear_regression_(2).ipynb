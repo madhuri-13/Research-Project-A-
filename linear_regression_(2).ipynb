{
  "nbformat": 4,
  "nbformat_minor": 0,
  "metadata": {
    "colab": {
      "name": "linear regression (2).ipynb",
      "provenance": []
    },
    "kernelspec": {
      "name": "python3",
      "display_name": "Python 3"
    },
    "language_info": {
      "name": "python"
    }
  },
  "cells": [
    {
      "cell_type": "code",
      "metadata": {
        "id": "XEofAvXcjVPR"
      },
      "source": [
        "#Importing the pacjkages\n",
        "import timeit\n",
        "import pandas as pd\n",
        "import numpy as np\n",
        "import seaborn as sns\n",
        "import matplotlib.pyplot as plt\n",
        "from sklearn.model_selection import train_test_split\n",
        "from sklearn.ensemble import RandomForestClassifier\n",
        "from sklearn import metrics\n",
        "from sklearn.metrics import classification_report, confusion_matrix\n",
        "from sklearn.metrics import roc_curve\n",
        "from sklearn.metrics import roc_auc_score\n",
        "import warnings\n",
        "%matplotlib inline\n",
        "warnings.filterwarnings('ignore')\n",
        "#warnings.filterwarnings('always')"
      ],
      "execution_count": 1,
      "outputs": []
    },
    {
      "cell_type": "code",
      "metadata": {
        "colab": {
          "base_uri": "https://localhost:8080/"
        },
        "id": "ssLxWYhgjaCt",
        "outputId": "9f491184-f7a0-4fac-cb94-756c9750267a"
      },
      "source": [
        "# Importing google drive\n",
        "from google.colab import drive\n",
        "drive.mount('/content/drive')"
      ],
      "execution_count": 2,
      "outputs": [
        {
          "output_type": "stream",
          "text": [
            "Mounted at /content/drive\n"
          ],
          "name": "stdout"
        }
      ]
    },
    {
      "cell_type": "code",
      "metadata": {
        "id": "vpG3GH48ji1c"
      },
      "source": [
        "# reading the datset\n",
        "header = ['timestamp', 'value', 'is_anomaly']\n",
        "df=pd.read_csv('/content/drive/MyDrive/Colab Notebooks/disease_person_edit.csv', names=header)"
      ],
      "execution_count": 3,
      "outputs": []
    },
    {
      "cell_type": "code",
      "metadata": {
        "id": "On4CaCCmnLl3"
      },
      "source": [
        "df['is_anomaly'] = df['is_anomaly'].round()"
      ],
      "execution_count": 4,
      "outputs": []
    },
    {
      "cell_type": "code",
      "metadata": {
        "colab": {
          "base_uri": "https://localhost:8080/",
          "height": 419
        },
        "id": "e4bN5fITji4E",
        "outputId": "d9c87095-e237-480b-844c-168cfacfc3d2"
      },
      "source": [
        "df"
      ],
      "execution_count": 5,
      "outputs": [
        {
          "output_type": "execute_result",
          "data": {
            "text/html": [
              "<div>\n",
              "<style scoped>\n",
              "    .dataframe tbody tr th:only-of-type {\n",
              "        vertical-align: middle;\n",
              "    }\n",
              "\n",
              "    .dataframe tbody tr th {\n",
              "        vertical-align: top;\n",
              "    }\n",
              "\n",
              "    .dataframe thead th {\n",
              "        text-align: right;\n",
              "    }\n",
              "</style>\n",
              "<table border=\"1\" class=\"dataframe\">\n",
              "  <thead>\n",
              "    <tr style=\"text-align: right;\">\n",
              "      <th></th>\n",
              "      <th>timestamp</th>\n",
              "      <th>value</th>\n",
              "      <th>is_anomaly</th>\n",
              "    </tr>\n",
              "  </thead>\n",
              "  <tbody>\n",
              "    <tr>\n",
              "      <th>0</th>\n",
              "      <td>05:57.0</td>\n",
              "      <td>433</td>\n",
              "      <td>0.0</td>\n",
              "    </tr>\n",
              "    <tr>\n",
              "      <th>1</th>\n",
              "      <td>05:57.0</td>\n",
              "      <td>430</td>\n",
              "      <td>0.0</td>\n",
              "    </tr>\n",
              "    <tr>\n",
              "      <th>2</th>\n",
              "      <td>05:57.0</td>\n",
              "      <td>427</td>\n",
              "      <td>0.0</td>\n",
              "    </tr>\n",
              "    <tr>\n",
              "      <th>3</th>\n",
              "      <td>05:57.0</td>\n",
              "      <td>426</td>\n",
              "      <td>0.0</td>\n",
              "    </tr>\n",
              "    <tr>\n",
              "      <th>4</th>\n",
              "      <td>05:57.0</td>\n",
              "      <td>427</td>\n",
              "      <td>0.0</td>\n",
              "    </tr>\n",
              "    <tr>\n",
              "      <th>...</th>\n",
              "      <td>...</td>\n",
              "      <td>...</td>\n",
              "      <td>...</td>\n",
              "    </tr>\n",
              "    <tr>\n",
              "      <th>9710</th>\n",
              "      <td>06:47.4</td>\n",
              "      <td>574</td>\n",
              "      <td>0.0</td>\n",
              "    </tr>\n",
              "    <tr>\n",
              "      <th>9711</th>\n",
              "      <td>06:47.4</td>\n",
              "      <td>560</td>\n",
              "      <td>0.0</td>\n",
              "    </tr>\n",
              "    <tr>\n",
              "      <th>9712</th>\n",
              "      <td>06:47.5</td>\n",
              "      <td>547</td>\n",
              "      <td>0.0</td>\n",
              "    </tr>\n",
              "    <tr>\n",
              "      <th>9713</th>\n",
              "      <td>06:47.5</td>\n",
              "      <td>529</td>\n",
              "      <td>0.0</td>\n",
              "    </tr>\n",
              "    <tr>\n",
              "      <th>9714</th>\n",
              "      <td>06:47.5</td>\n",
              "      <td>509</td>\n",
              "      <td>0.0</td>\n",
              "    </tr>\n",
              "  </tbody>\n",
              "</table>\n",
              "<p>9715 rows × 3 columns</p>\n",
              "</div>"
            ],
            "text/plain": [
              "     timestamp  value  is_anomaly\n",
              "0      05:57.0    433         0.0\n",
              "1      05:57.0    430         0.0\n",
              "2      05:57.0    427         0.0\n",
              "3      05:57.0    426         0.0\n",
              "4      05:57.0    427         0.0\n",
              "...        ...    ...         ...\n",
              "9710   06:47.4    574         0.0\n",
              "9711   06:47.4    560         0.0\n",
              "9712   06:47.5    547         0.0\n",
              "9713   06:47.5    529         0.0\n",
              "9714   06:47.5    509         0.0\n",
              "\n",
              "[9715 rows x 3 columns]"
            ]
          },
          "metadata": {
            "tags": []
          },
          "execution_count": 5
        }
      ]
    },
    {
      "cell_type": "code",
      "metadata": {
        "id": "YAvEJyP6ji6g"
      },
      "source": [
        "x = df.drop('is_anomaly', axis=1)\n",
        "y = df['is_anomaly'] \n"
      ],
      "execution_count": 6,
      "outputs": []
    },
    {
      "cell_type": "code",
      "metadata": {
        "id": "StEKXlKQlVOB"
      },
      "source": [
        "x = x.drop('timestamp', axis=1)"
      ],
      "execution_count": 7,
      "outputs": []
    },
    {
      "cell_type": "code",
      "metadata": {
        "colab": {
          "base_uri": "https://localhost:8080/"
        },
        "id": "SD4QFeSWji9U",
        "outputId": "a3c5f497-3aea-4a8f-85ab-18a4160ace13"
      },
      "source": [
        "x.shape"
      ],
      "execution_count": 8,
      "outputs": [
        {
          "output_type": "execute_result",
          "data": {
            "text/plain": [
              "(9715, 1)"
            ]
          },
          "metadata": {
            "tags": []
          },
          "execution_count": 8
        }
      ]
    },
    {
      "cell_type": "code",
      "metadata": {
        "id": "FQrx5RRXjjAr"
      },
      "source": [
        "import numpy as np\n",
        "from sklearn                        import metrics, svm\n",
        "from sklearn.linear_model           import LinearRegression\n",
        "from sklearn.linear_model           import LogisticRegression\n",
        "from sklearn.tree                   import DecisionTreeClassifier\n",
        "from sklearn.neighbors              import KNeighborsClassifier\n",
        "from sklearn.discriminant_analysis  import LinearDiscriminantAnalysis\n",
        "from sklearn.naive_bayes            import GaussianNB\n",
        "from sklearn.svm                    import SVC"
      ],
      "execution_count": 9,
      "outputs": []
    },
    {
      "cell_type": "code",
      "metadata": {
        "colab": {
          "base_uri": "https://localhost:8080/"
        },
        "id": "7Oh7BOR6lzRj",
        "outputId": "e689c4e7-1139-4c3a-a280-a88b949ca620"
      },
      "source": [
        "clf = LinearRegression()\n",
        "clf.fit(x, y)\n"
      ],
      "execution_count": 10,
      "outputs": [
        {
          "output_type": "execute_result",
          "data": {
            "text/plain": [
              "LinearRegression(copy_X=True, fit_intercept=True, n_jobs=None, normalize=False)"
            ]
          },
          "metadata": {
            "tags": []
          },
          "execution_count": 10
        }
      ]
    },
    {
      "cell_type": "code",
      "metadata": {
        "id": "oH8p0giyl6l0"
      },
      "source": [
        "d = clf.predict(x)"
      ],
      "execution_count": 11,
      "outputs": []
    },
    {
      "cell_type": "code",
      "metadata": {
        "colab": {
          "base_uri": "https://localhost:8080/"
        },
        "id": "nSfBCjzdm02H",
        "outputId": "77dd333b-3892-4cc4-c8d5-c56b6c4a340f"
      },
      "source": [
        "d"
      ],
      "execution_count": 12,
      "outputs": [
        {
          "output_type": "execute_result",
          "data": {
            "text/plain": [
              "array([0.00424384, 0.0042031 , 0.00416237, ..., 0.00579174, 0.00554734,\n",
              "       0.00527577])"
            ]
          },
          "metadata": {
            "tags": []
          },
          "execution_count": 12
        }
      ]
    },
    {
      "cell_type": "code",
      "metadata": {
        "id": "j2Zp_yvlmNdc"
      },
      "source": [
        "pred = d.round()"
      ],
      "execution_count": 13,
      "outputs": []
    },
    {
      "cell_type": "code",
      "metadata": {
        "colab": {
          "base_uri": "https://localhost:8080/"
        },
        "id": "UOPK1jGPmWuS",
        "outputId": "9ef17c29-ed0f-48c5-8b9b-5eddc511297a"
      },
      "source": [
        "pred"
      ],
      "execution_count": 14,
      "outputs": [
        {
          "output_type": "execute_result",
          "data": {
            "text/plain": [
              "array([0., 0., 0., ..., 0., 0., 0.])"
            ]
          },
          "metadata": {
            "tags": []
          },
          "execution_count": 14
        }
      ]
    },
    {
      "cell_type": "code",
      "metadata": {
        "id": "IHwcKAmiVAr-"
      },
      "source": [
        "df['anomaly'] = d.round()"
      ],
      "execution_count": 19,
      "outputs": []
    },
    {
      "cell_type": "code",
      "metadata": {
        "colab": {
          "base_uri": "https://localhost:8080/",
          "height": 204
        },
        "id": "i5BrwLQoVIxp",
        "outputId": "6cb49b94-beb1-46ce-cd46-f4d21f32c53f"
      },
      "source": [
        "df.head()"
      ],
      "execution_count": 20,
      "outputs": [
        {
          "output_type": "execute_result",
          "data": {
            "text/html": [
              "<div>\n",
              "<style scoped>\n",
              "    .dataframe tbody tr th:only-of-type {\n",
              "        vertical-align: middle;\n",
              "    }\n",
              "\n",
              "    .dataframe tbody tr th {\n",
              "        vertical-align: top;\n",
              "    }\n",
              "\n",
              "    .dataframe thead th {\n",
              "        text-align: right;\n",
              "    }\n",
              "</style>\n",
              "<table border=\"1\" class=\"dataframe\">\n",
              "  <thead>\n",
              "    <tr style=\"text-align: right;\">\n",
              "      <th></th>\n",
              "      <th>timestamp</th>\n",
              "      <th>value</th>\n",
              "      <th>is_anomaly</th>\n",
              "      <th>anomaly</th>\n",
              "    </tr>\n",
              "  </thead>\n",
              "  <tbody>\n",
              "    <tr>\n",
              "      <th>0</th>\n",
              "      <td>05:57.0</td>\n",
              "      <td>433</td>\n",
              "      <td>0.0</td>\n",
              "      <td>0.0</td>\n",
              "    </tr>\n",
              "    <tr>\n",
              "      <th>1</th>\n",
              "      <td>05:57.0</td>\n",
              "      <td>430</td>\n",
              "      <td>0.0</td>\n",
              "      <td>0.0</td>\n",
              "    </tr>\n",
              "    <tr>\n",
              "      <th>2</th>\n",
              "      <td>05:57.0</td>\n",
              "      <td>427</td>\n",
              "      <td>0.0</td>\n",
              "      <td>0.0</td>\n",
              "    </tr>\n",
              "    <tr>\n",
              "      <th>3</th>\n",
              "      <td>05:57.0</td>\n",
              "      <td>426</td>\n",
              "      <td>0.0</td>\n",
              "      <td>0.0</td>\n",
              "    </tr>\n",
              "    <tr>\n",
              "      <th>4</th>\n",
              "      <td>05:57.0</td>\n",
              "      <td>427</td>\n",
              "      <td>0.0</td>\n",
              "      <td>0.0</td>\n",
              "    </tr>\n",
              "  </tbody>\n",
              "</table>\n",
              "</div>"
            ],
            "text/plain": [
              "  timestamp  value  is_anomaly  anomaly\n",
              "0   05:57.0    433         0.0      0.0\n",
              "1   05:57.0    430         0.0      0.0\n",
              "2   05:57.0    427         0.0      0.0\n",
              "3   05:57.0    426         0.0      0.0\n",
              "4   05:57.0    427         0.0      0.0"
            ]
          },
          "metadata": {
            "tags": []
          },
          "execution_count": 20
        }
      ]
    },
    {
      "cell_type": "code",
      "metadata": {
        "colab": {
          "base_uri": "https://localhost:8080/"
        },
        "id": "S3TR_MAQmWxr",
        "outputId": "698aba66-80b3-4dc3-d17a-0ffa30b6ce17"
      },
      "source": [
        "print(classification_report(y, pred))"
      ],
      "execution_count": 15,
      "outputs": [
        {
          "output_type": "stream",
          "text": [
            "              precision    recall  f1-score   support\n",
            "\n",
            "         0.0       0.99      1.00      1.00      9664\n",
            "         1.0       0.00      0.00      0.00        51\n",
            "\n",
            "    accuracy                           0.99      9715\n",
            "   macro avg       0.50      0.50      0.50      9715\n",
            "weighted avg       0.99      0.99      0.99      9715\n",
            "\n"
          ],
          "name": "stdout"
        }
      ]
    },
    {
      "cell_type": "code",
      "metadata": {
        "colab": {
          "base_uri": "https://localhost:8080/"
        },
        "id": "12wqfZOFnhIq",
        "outputId": "f8e92045-49e3-48ca-d371-b0afa013abe6"
      },
      "source": [
        "conf = confusion_matrix(y, pred)\n",
        "conf"
      ],
      "execution_count": 16,
      "outputs": [
        {
          "output_type": "execute_result",
          "data": {
            "text/plain": [
              "array([[9664,    0],\n",
              "       [  51,    0]])"
            ]
          },
          "metadata": {
            "tags": []
          },
          "execution_count": 16
        }
      ]
    },
    {
      "cell_type": "code",
      "metadata": {
        "colab": {
          "base_uri": "https://localhost:8080/"
        },
        "id": "aUzOGpIGTr59",
        "outputId": "b0594b40-93b6-4b4a-c132-5b00df495d84"
      },
      "source": [
        "anomaly=df.loc[df['anomaly']==1]\n",
        "anomaly_index=list(anomaly.index)\n",
        "print(anomaly)"
      ],
      "execution_count": 21,
      "outputs": [
        {
          "output_type": "stream",
          "text": [
            "Empty DataFrame\n",
            "Columns: [timestamp, value, is_anomaly, anomaly]\n",
            "Index: []\n"
          ],
          "name": "stdout"
        }
      ]
    }
  ]
}